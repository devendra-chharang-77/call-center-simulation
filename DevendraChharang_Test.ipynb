{
 "cells": [
  {
   "cell_type": "markdown",
   "id": "8919dc38",
   "metadata": {},
   "source": [
    "  #  Project :- Call Center Operations Optimization: \n"
   ]
  },
  {
   "cell_type": "markdown",
   "id": "d3fa7c6f",
   "metadata": {},
   "source": [
    "# Task 1 Setting Up the Call Center Simulation "
   ]
  },
  {
   "cell_type": "code",
   "execution_count": 1,
   "id": "4328b482",
   "metadata": {},
   "outputs": [
    {
     "name": "stdout",
     "output_type": "stream",
     "text": [
      "Simulation Environment Set:\n",
      "Call Arrival Rate (λ): 20 calls/hour\n",
      "Service Rate (μ): 5 calls/hour/agent\n",
      "Shift Duration: 8 hours\n",
      "Expected Calls: 160\n"
     ]
    }
   ],
   "source": [
    "\n",
    "\n",
    "import numpy as np\n",
    "import matplotlib.pyplot as plt\n",
    "import random\n",
    "\n",
    "# Set random seed for repeatable results\n",
    "np.random.seed(1)\n",
    "\n",
    "# Call arrival rate (calls per hour)\n",
    "lambda_rate = 20  # λ = 20 calls/hour\n",
    "\n",
    "# Service rate (calls handled per hour by one agent)\n",
    "mu = 5  # μ = 5 calls/hour\n",
    "\n",
    "# Shift duration in hours\n",
    "shift_hours = 8\n",
    "\n",
    "# Total expected number of calls in 8-hour shift\n",
    "expected_calls = int(lambda_rate * shift_hours)\n",
    "\n",
    "print(\"Simulation Environment Set:\")\n",
    "print(f\"Call Arrival Rate (λ): {lambda_rate} calls/hour\")\n",
    "print(f\"Service Rate (μ): {mu} calls/hour/agent\")\n",
    "print(f\"Shift Duration: {shift_hours} hours\")\n",
    "print(f\"Expected Calls: {expected_calls}\")\n"
   ]
  },
  {
   "cell_type": "markdown",
   "id": "72811587",
   "metadata": {},
   "source": [
    "# Task 2 Simulating Call Center with 1 Agent"
   ]
  },
  {
   "cell_type": "code",
   "execution_count": 2,
   "id": "06f428ec",
   "metadata": {},
   "outputs": [],
   "source": [
    "# Parameters\n",
    "lambda_rate = 20  # calls per hour\n",
    "mu = 5            # service rate (calls/hour/agent)\n",
    "shift_hours = 8\n",
    "num_calls = int(lambda_rate * shift_hours)"
   ]
  },
  {
   "cell_type": "code",
   "execution_count": 3,
   "id": "be6b638c",
   "metadata": {},
   "outputs": [],
   "source": [
    "# Generate inter-arrival times and arrival times\n",
    "inter_arrival_times = np.random.exponential(scale=1/lambda_rate, size=num_calls)\n",
    "arrival_times = np.cumsum(inter_arrival_times)"
   ]
  },
  {
   "cell_type": "code",
   "execution_count": 4,
   "id": "9f16dc96",
   "metadata": {},
   "outputs": [],
   "source": [
    "# Generate random service times (in hours)\n",
    "service_times = np.random.exponential(scale=1/mu, size=num_calls)"
   ]
  },
  {
   "cell_type": "code",
   "execution_count": 5,
   "id": "420c89ef",
   "metadata": {},
   "outputs": [],
   "source": [
    "# Initialize variables\n",
    "agent_available_time = 0  # agent is free at the beginning\n",
    "wait_times = []\n",
    "queue_sizes = []"
   ]
  },
  {
   "cell_type": "code",
   "execution_count": 6,
   "id": "34b3a885",
   "metadata": {},
   "outputs": [],
   "source": [
    "# Simulate each call\n",
    "for i in range(num_calls):\n",
    "    arrival = arrival_times[i]\n",
    "    service = service_times[i]\n",
    "\n",
    "    # If agent is free before the call arrives\n",
    "    if arrival >= agent_available_time:\n",
    "        wait_time = 0\n",
    "        agent_available_time = arrival + service\n",
    "    else:\n",
    "        wait_time = agent_available_time - arrival\n",
    "        agent_available_time += service\n",
    "\n",
    "    wait_times.append(wait_time * 60)  # convert to minutes\n",
    "    queue_sizes.append(i)  # every new call sees i people before them (worst-case)"
   ]
  },
  {
   "cell_type": "code",
   "execution_count": 7,
   "id": "da0c4c45",
   "metadata": {},
   "outputs": [],
   "source": [
    "# Calculate outputs\n",
    "average_wait = np.mean(wait_times)\n",
    "average_queue = np.mean(queue_sizes)"
   ]
  },
  {
   "cell_type": "code",
   "execution_count": 8,
   "id": "9c00cfca",
   "metadata": {},
   "outputs": [
    {
     "name": "stdout",
     "output_type": "stream",
     "text": [
      "\n",
      "[With 1 Agent]\n",
      "Average Wait Time: 783.39 minutes\n",
      "Average Queue Size: 79.50\n"
     ]
    }
   ],
   "source": [
    "print(f\"\\n[With 1 Agent]\")\n",
    "print(f\"Average Wait Time: {average_wait:.2f} minutes\")\n",
    "print(f\"Average Queue Size: {average_queue:.2f}\")"
   ]
  },
  {
   "cell_type": "markdown",
   "id": "e177d8cb",
   "metadata": {},
   "source": [
    "# Task 3 Simulate how a call center queue works during a shift"
   ]
  },
  {
   "cell_type": "code",
   "execution_count": 9,
   "id": "ebb157be",
   "metadata": {},
   "outputs": [],
   "source": [
    "λ = 20  # arrival rate (calls/hour)\n",
    "μ = 5   # service rate (calls/hour/agent)"
   ]
  },
  {
   "cell_type": "code",
   "execution_count": 10,
   "id": "909a9ebc",
   "metadata": {},
   "outputs": [],
   "source": [
    "rho = lambda_rate / mu  # ρ = λ / μ"
   ]
  },
  {
   "cell_type": "code",
   "execution_count": 11,
   "id": "ee4500f5",
   "metadata": {},
   "outputs": [],
   "source": [
    "if rho < 1:\n",
    "    L = rho / (1 - rho)  # avg no. of people in system\n",
    "else:\n",
    "    L = float('inf')"
   ]
  },
  {
   "cell_type": "code",
   "execution_count": 12,
   "id": "b69cde4e",
   "metadata": {},
   "outputs": [],
   "source": [
    "if rho < 1:\n",
    "    W = (L / lambda_rate) * 60  # convert hours to minutes\n",
    "else:\n",
    "    W = float('inf')\n"
   ]
  },
  {
   "cell_type": "code",
   "execution_count": 13,
   "id": "a3e9c24c",
   "metadata": {},
   "outputs": [
    {
     "name": "stdout",
     "output_type": "stream",
     "text": [
      "\n",
      "[Task 3: Theory vs Simulation]\n",
      "Traffic Intensity (ρ): 4.00\n",
      "Theoretical Average People in System (L): inf\n",
      "Theoretical Average Time in System (W): inf minutes\n",
      "Simulated Average Wait Time: 783.39 minutes\n",
      "Simulated Queue Size: 79.50\n"
     ]
    }
   ],
   "source": [
    "# Compare with Task 2 outputs\n",
    "print(\"\\n[Task 3: Theory vs Simulation]\")\n",
    "print(f\"Traffic Intensity (ρ): {rho:.2f}\")\n",
    "print(f\"Theoretical Average People in System (L): {L:.2f}\")\n",
    "print(f\"Theoretical Average Time in System (W): {W:.2f} minutes\")\n",
    "\n",
    "print(f\"Simulated Average Wait Time: {average_wait:.2f} minutes\")\n",
    "print(f\"Simulated Queue Size: {average_queue:.2f}\")\n"
   ]
  },
  {
   "cell_type": "markdown",
   "id": "029fa6c2",
   "metadata": {},
   "source": [
    "# Task 4 Simulating Queue Performance with Different Numbers of Agents"
   ]
  },
  {
   "cell_type": "code",
   "execution_count": 14,
   "id": "4189b579",
   "metadata": {},
   "outputs": [],
   "source": [
    "# Define a threshold wait time (for evaluation)\n",
    "wait_threshold = 5  # in minutes\n",
    "\n"
   ]
  },
  {
   "cell_type": "code",
   "execution_count": 15,
   "id": "642cedbe",
   "metadata": {},
   "outputs": [],
   "source": [
    "# List to store results for each number of agents\n",
    "results = []\n",
    "\n",
    "# Common call and service parameters\n",
    "lambda_rate = 20     # calls per hour\n",
    "mu = 5               # service rate per agent\n",
    "shift_hours = 8\n",
    "num_calls = int(lambda_rate * shift_hours)\n"
   ]
  },
  {
   "cell_type": "code",
   "execution_count": 16,
   "id": "a1a45d4b",
   "metadata": {},
   "outputs": [],
   "source": [
    "# Define the simulation function\n",
    "def simulate_queue(num_agents):\n",
    "    np.random.seed(1)  # to keep results same every run\n",
    "\n",
    "    # Generate arrival and service times\n",
    "    inter_arrival_times = np.random.exponential(scale=1/lambda_rate, size=num_calls)\n",
    "    arrival_times = np.cumsum(inter_arrival_times)\n",
    "    service_times = np.random.exponential(scale=1/mu, size=num_calls)\n",
    "\n",
    "    # Initialize agent availability\n",
    "    agent_available_times = [0] * num_agents\n",
    "\n",
    "    wait_times = []\n",
    "    system_sizes = []\n",
    "\n",
    "    # Simulate each call\n",
    "    for i in range(num_calls):\n",
    "        arrival = arrival_times[i]\n",
    "        service = service_times[i]\n",
    "\n",
    "        # Find which agent is free the earliest\n",
    "        next_available_agent = np.argmin(agent_available_times)\n",
    "        available_time = agent_available_times[next_available_agent]\n",
    "\n",
    "        if arrival >= available_time:\n",
    "            wait_time = 0\n",
    "            agent_available_times[next_available_agent] = arrival + service\n",
    "        else:\n",
    "            wait_time = available_time - arrival\n",
    "            agent_available_times[next_available_agent] += service\n",
    "\n",
    "        wait_times.append(wait_time * 60)  # to minutes\n",
    "        system_sizes.append(i)  # simple queue size\n",
    "\n",
    "    return wait_times, system_sizes\n"
   ]
  },
  {
   "cell_type": "code",
   "execution_count": 17,
   "id": "38340cce",
   "metadata": {},
   "outputs": [],
   "source": [
    "# Run simulation for agents from 1 to 5\n",
    "for agents in range(1, 6):\n",
    "    wait_times, system_sizes = simulate_queue(agents)\n",
    "\n",
    "    avg_wait = np.mean(wait_times)\n",
    "    wait_95th = np.percentile(wait_times, 95)\n",
    "    avg_system_size = np.mean(system_sizes)\n",
    "\n",
    "    results.append({\n",
    "        \"Agents\": agents,\n",
    "        \"Avg_Wait\": round(avg_wait, 2),\n",
    "        \"Wait_95th\": round(wait_95th, 2),\n",
    "        \"Avg_System_Size\": round(avg_system_size, 2)\n",
    "    })\n"
   ]
  },
  {
   "cell_type": "code",
   "execution_count": 18,
   "id": "bcda17d0",
   "metadata": {},
   "outputs": [
    {
     "name": "stdout",
     "output_type": "stream",
     "text": [
      "\n",
      "[Task 4: Performance by Number of Agents]\n",
      "Agents | Avg Wait (min) | 95th % Wait | Avg System Size\n",
      "     1 |         783.39 |      1501.74 |             79.5\n",
      "     2 |         274.17 |       523.52 |             79.5\n",
      "     3 |         104.83 |       200.94 |             79.5\n",
      "     4 |          28.13 |        51.15 |             79.5\n",
      "     5 |            6.1 |        20.92 |             79.5\n"
     ]
    }
   ],
   "source": [
    "# Display results\n",
    "print(\"\\n[Task 4: Performance by Number of Agents]\")\n",
    "print(\"Agents | Avg Wait (min) | 95th % Wait | Avg System Size\")\n",
    "for r in results:\n",
    "    print(f\"{r['Agents']:>6} | {r['Avg_Wait']:>14} | {r['Wait_95th']:>12} | {r['Avg_System_Size']:>16}\")\n"
   ]
  },
  {
   "cell_type": "markdown",
   "id": "337c4be0",
   "metadata": {},
   "source": [
    "# Task 5 Evaluating Agent Schedules in a Call Center\n"
   ]
  },
  {
   "cell_type": "code",
   "execution_count": 19,
   "id": "74182eb0",
   "metadata": {},
   "outputs": [],
   "source": [
    "# Step 1: Define the service goal\n",
    "wait_threshold = 5  # in minutes (95% customers should wait ≤ 5 min)"
   ]
  },
  {
   "cell_type": "code",
   "execution_count": 20,
   "id": "bcdbece6",
   "metadata": {},
   "outputs": [],
   "source": [
    "# Step 2: Import tools and define simulation parameters\n",
    "import numpy as np\n",
    "\n",
    "lambda_rate = 20   # Calls per hour\n",
    "mu = 5             # Calls handled per hour by each agent\n",
    "shift_hours = 8    # Total working hours\n",
    "num_calls = int(lambda_rate * shift_hours)  # Total calls in a shift\n"
   ]
  },
  {
   "cell_type": "code",
   "execution_count": 21,
   "id": "978098de",
   "metadata": {},
   "outputs": [],
   "source": [
    "# Step 3: Define the simulation function\n",
    "def simulate_queue(num_agents):\n",
    "    np.random.seed(1)\n",
    "\n",
    "    inter_arrival_times = np.random.exponential(scale=1/lambda_rate, size=num_calls)\n",
    "    arrival_times = np.cumsum(inter_arrival_times)\n",
    "    service_times = np.random.exponential(scale=1/mu, size=num_calls)\n",
    "\n",
    "    agent_available_times = [0] * num_agents\n",
    "    wait_times = []\n",
    "    system_sizes = []\n",
    "\n",
    "    for i in range(num_calls):\n",
    "        arrival = arrival_times[i]\n",
    "        service = service_times[i]\n",
    "\n",
    "        next_agent = np.argmin(agent_available_times)\n",
    "        available_time = agent_available_times[next_agent]\n",
    "\n",
    "        if arrival >= available_time:\n",
    "            wait_time = 0\n",
    "            agent_available_times[next_agent] = arrival + service\n",
    "        else:\n",
    "            wait_time = available_time - arrival\n",
    "            agent_available_times[next_agent] += service\n",
    "\n",
    "        wait_times.append(wait_time * 60)  # minutes\n",
    "        system_sizes.append(i)\n",
    "\n",
    "    return wait_times, system_sizes\n"
   ]
  },
  {
   "cell_type": "code",
   "execution_count": 22,
   "id": "35dddf27",
   "metadata": {},
   "outputs": [
    {
     "name": "stdout",
     "output_type": "stream",
     "text": [
      "[Task 5] Evaluating Agent Schedule\n",
      "Agents | Avg Wait (min) | 95th % Wait | Avg System Size\n",
      "  1    |         783.39 |      1501.74 |            79.50\n",
      "  2    |         274.17 |       523.52 |            79.50\n",
      "  3    |         104.83 |       200.94 |            79.50\n",
      "  4    |          28.13 |        51.15 |            79.50\n",
      "  5    |           6.10 |        20.92 |            79.50\n"
     ]
    }
   ],
   "source": [
    "# Step 4: Run the simulation for 1 to 5 agents\n",
    "print(\"[Task 5] Evaluating Agent Schedule\")\n",
    "print(\"Agents | Avg Wait (min) | 95th % Wait | Avg System Size\")\n",
    "\n",
    "recommended_agents = None\n",
    "\n",
    "for agents in range(1, 6):\n",
    "    wait_times, system_sizes = simulate_queue(agents)\n",
    "    avg_wait = np.mean(wait_times)\n",
    "    wait_95 = np.percentile(wait_times, 95)\n",
    "    avg_system_size = np.mean(system_sizes)\n",
    "\n",
    "    print(f\"{agents:^6} | {avg_wait:>14.2f} | {wait_95:>12.2f} | {avg_system_size:>16.2f}\")\n",
    "\n",
    "    if recommended_agents is None and wait_95 <= wait_threshold:\n",
    "        recommended_agents = agents\n"
   ]
  },
  {
   "cell_type": "code",
   "execution_count": 23,
   "id": "e79b373a",
   "metadata": {},
   "outputs": [
    {
     "name": "stdout",
     "output_type": "stream",
     "text": [
      "Even 5 agents are not enough. Try increasing agent count or improving service rate.\n"
     ]
    }
   ],
   "source": [
    "# Step 5: Print final recommendation\n",
    "if recommended_agents:\n",
    "    print(f\" Recommended: Use at least {recommended_agents} agents to meet 95% under 5-minute wait.\")\n",
    "else:\n",
    "    print(\"Even 5 agents are not enough. Try increasing agent count or improving service rate.\")\n"
   ]
  },
  {
   "cell_type": "markdown",
   "id": "1f147979",
   "metadata": {},
   "source": [
    "# Task 6: Visualizing Wait-Time for Different Agent Counts\n"
   ]
  },
  {
   "cell_type": "code",
   "execution_count": 24,
   "id": "4bf93e26",
   "metadata": {},
   "outputs": [],
   "source": [
    "import numpy as np\n",
    "import matplotlib.pyplot as plt\n",
    "\n",
    "lambda_rate = 20\n",
    "mu = 5\n",
    "shift_hours = 8\n",
    "num_calls = int(lambda_rate * shift_hours)\n",
    "\n",
    "def simulate_queue(num_agents):\n",
    "    np.random.seed(1)\n",
    "    inter_arrival_times = np.random.exponential(scale=1/lambda_rate, size=num_calls)\n",
    "    arrival_times = np.cumsum(inter_arrival_times)\n",
    "    service_times = np.random.exponential(scale=1/mu, size=num_calls)\n",
    "\n",
    "    agent_available_times = [0] * num_agents\n",
    "    wait_times = []\n",
    "\n",
    "    for i in range(num_calls):\n",
    "        arrival = arrival_times[i]\n",
    "        service = service_times[i]\n",
    "        next_agent = np.argmin(agent_available_times)\n",
    "        available_time = agent_available_times[next_agent]\n",
    "\n",
    "        if arrival >= available_time:\n",
    "            wait_time = 0\n",
    "            agent_available_times[next_agent] = arrival + service\n",
    "        else:\n",
    "            wait_time = available_time - arrival\n",
    "            agent_available_times[next_agent] += service\n",
    "\n",
    "        wait_times.append(wait_time * 60)  # convert to minutes\n",
    "\n",
    "    return wait_times\n"
   ]
  },
  {
   "cell_type": "code",
   "execution_count": 25,
   "id": "a7c5d957",
   "metadata": {},
   "outputs": [],
   "source": [
    "# Step 2: Run simulations for agent counts 1 to 5\n",
    "all_waits = {}\n",
    "for agents in range(1, 6):\n",
    "    waits = simulate_queue(agents)\n",
    "    all_waits[agents] = waits\n"
   ]
  },
  {
   "cell_type": "code",
   "execution_count": 26,
   "id": "8afdf518",
   "metadata": {},
   "outputs": [
    {
     "data": {
      "text/plain": [
       "Text(0.5, 1.0, 'Wait Time Distribution for 1 to 5 Agents')"
      ]
     },
     "execution_count": 26,
     "metadata": {},
     "output_type": "execute_result"
    },
    {
     "data": {
      "image/png": "[encoded data removed]",
      "text/plain": [
       "<Figure size 1200x600 with 1 Axes>"
      ]
     },
     "metadata": {},
     "output_type": "display_data"
    }
   ],
   "source": [
    "# Step 3: Create histograms\n",
    "plt.figure(figsize=(12, 6))\n",
    "\n",
    "for agents, wait_times in all_waits.items():\n",
    "    plt.hist(wait_times, bins=50, alpha=0.6, label=f'{agents} agent(s)', edgecolor='black')\n",
    "\n",
    "plt.xlabel('Wait Time (minutes)')\n",
    "plt.ylabel('Number of Callers')\n",
    "plt.title('Wait Time Distribution for 1 to 5 Agents')\n"
   ]
  },
  {
   "cell_type": "code",
   "execution_count": 27,
   "id": "75b10ccd",
   "metadata": {},
   "outputs": [
    {
     "data": {
      "text/plain": [
       "<matplotlib.legend.Legend at 0x25884caccd0>"
      ]
     },
     "execution_count": 27,
     "metadata": {},
     "output_type": "execute_result"
    },
    {
     "data": {
      "image/png": "[encoded data removed]",
      "text/plain": [
       "<Figure size 640x480 with 1 Axes>"
      ]
     },
     "metadata": {},
     "output_type": "display_data"
    }
   ],
   "source": [
    "# Step 4: Add 5-minute service goal line\n",
    "plt.axvline(x=5, color='red', linestyle='dashed', label='5-minute Goal')\n",
    "plt.legend()\n"
   ]
  },
  {
   "cell_type": "code",
   "execution_count": 28,
   "id": "8904e43c",
   "metadata": {},
   "outputs": [
    {
     "data": {
      "image/png": "[encoded data removed]",
      "text/plain": [
       "<Figure size 640x480 with 1 Axes>"
      ]
     },
     "metadata": {},
     "output_type": "display_data"
    }
   ],
   "source": [
    "# Step 5: Show the visualization\n",
    "plt.grid(True)\n",
    "plt.tight_layout()\n",
    "plt.show()\n"
   ]
  },
  {
   "cell_type": "markdown",
   "id": "46d7e590",
   "metadata": {},
   "source": [
    "# Task 7:Simulating Wait Times When Call Volumes Change During the Day\n"
   ]
  },
  {
   "cell_type": "code",
   "execution_count": 29,
   "id": "ddf3a65c",
   "metadata": {},
   "outputs": [],
   "source": [
    "import numpy as np\n",
    "import matplotlib.pyplot as plt\n"
   ]
  },
  {
   "cell_type": "code",
   "execution_count": 30,
   "id": "fc7cc49f",
   "metadata": {},
   "outputs": [],
   "source": [
    "np.random.seed(42)  # For consistent results\n",
    "\n",
    "# Time blocks in hours and corresponding call arrival rates per hour\n",
    "time_blocks = [\n",
    "    (0, 2, 30),  # 0–2 hrs: 30 calls/hr\n",
    "    (2, 6, 20),  # 2–6 hrs: 20 calls/hr\n",
    "    (6, 8, 40),  # 6–8 hrs: 40 calls/hr\n",
    "]\n",
    "\n",
    "total_shift_hours = 8\n",
    "num_agents = 3\n"
   ]
  },
  {
   "cell_type": "code",
   "execution_count": 31,
   "id": "31572b1e",
   "metadata": {},
   "outputs": [],
   "source": [
    "call_arrivals = []\n",
    "\n",
    "for start, end, rate in time_blocks:\n",
    "    block_duration = end - start\n",
    "    num_calls = int(rate * block_duration)\n",
    "    arrivals_in_block = np.random.uniform(low=start, high=end, size=num_calls)\n",
    "    call_arrivals.extend(arrivals_in_block)\n",
    "\n",
    "call_arrivals = np.array(sorted(call_arrivals))\n"
   ]
  },
  {
   "cell_type": "code",
   "execution_count": 32,
   "id": "549b78ba",
   "metadata": {},
   "outputs": [],
   "source": [
    "# Generate service times (mean = 12 mins = 0.2 hours)\n",
    "service_times = np.random.exponential(scale=0.2, size=len(call_arrivals))\n",
    "\n",
    "# Track when each agent becomes free\n",
    "agent_available_times = [0.0] * num_agents\n",
    "wait_times = []\n",
    "\n",
    "for i in range(len(call_arrivals)):\n",
    "    call_time = call_arrivals[i]\n",
    "    service_time = service_times[i]\n",
    "\n",
    "    # Find the next available agent\n",
    "    next_agent_idx = np.argmin(agent_available_times)\n",
    "    next_free_time = agent_available_times[next_agent_idx]\n",
    "\n",
    "    # If agent is free before or at call time, no wait\n",
    "    wait = max(0, next_free_time - call_time)\n",
    "    wait_times.append(wait)\n",
    "\n",
    "    # Update that agent's availability\n",
    "    agent_available_times[next_agent_idx] = call_time + wait + service_time\n"
   ]
  },
  {
   "cell_type": "code",
   "execution_count": 33,
   "id": "f1793b6b",
   "metadata": {},
   "outputs": [
    {
     "name": "stdout",
     "output_type": "stream",
     "text": [
      "Time-varying λ with s=3 agents → Avg Wait Time = 197.43 minutes\n"
     ]
    }
   ],
   "source": [
    "# Convert wait times to minutes\n",
    "wait_times_min = [w * 60 for w in wait_times]\n",
    "\n",
    "# Output average wait time\n",
    "avg_wait = np.mean(wait_times_min)\n",
    "print(f\"Time-varying λ with s={num_agents} agents → Avg Wait Time = {avg_wait:.2f} minutes\")\n"
   ]
  },
  {
   "cell_type": "markdown",
   "id": "1ab920cf",
   "metadata": {},
   "source": [
    "# Task 8: Simulating Call Abandonment in a Call Center"
   ]
  },
  {
   "cell_type": "code",
   "execution_count": 34,
   "id": "8cc38288",
   "metadata": {},
   "outputs": [],
   "source": [
    "import numpy as np\n"
   ]
  },
  {
   "cell_type": "code",
   "execution_count": 35,
   "id": "f1e203ce",
   "metadata": {},
   "outputs": [],
   "source": [
    "np.random.seed(10)\n",
    "\n",
    "shift_hours = 8\n",
    "arrival_rate = 20  # calls per hour\n",
    "service_rate = 5   # per agent per hour\n",
    "num_agents = 3\n",
    "abandon_threshold = 5 / 60  # 5 minutes in hours\n"
   ]
  },
  {
   "cell_type": "code",
   "execution_count": 36,
   "id": "ba49269b",
   "metadata": {},
   "outputs": [],
   "source": [
    "num_calls = int(arrival_rate * shift_hours)\n",
    "arrival_times = np.sort(np.random.uniform(0, shift_hours, num_calls))\n"
   ]
  },
  {
   "cell_type": "code",
   "execution_count": 37,
   "id": "263f2b91",
   "metadata": {},
   "outputs": [],
   "source": [
    "service_times = np.random.exponential(1/service_rate, num_calls)\n"
   ]
  },
  {
   "cell_type": "code",
   "execution_count": 38,
   "id": "9aefcaa8",
   "metadata": {},
   "outputs": [],
   "source": [
    "agent_available_times = [0.0] * num_agents\n",
    "served_waits = []\n",
    "abandoned_count = 0\n",
    "\n",
    "for i in range(num_calls):\n",
    "    arrival = arrival_times[i]\n",
    "    service_time = service_times[i]\n",
    "\n",
    "    # Next free agent\n",
    "    next_agent_index = np.argmin(agent_available_times)\n",
    "    next_available_time = agent_available_times[next_agent_index]\n",
    "\n",
    "    wait_time = max(0, next_available_time - arrival)\n",
    "\n",
    "    if wait_time > abandon_threshold:\n",
    "        abandoned_count += 1\n",
    "    else:\n",
    "        served_waits.append(wait_time)\n",
    "        agent_available_times[next_agent_index] = arrival + wait_time + service_time\n"
   ]
  },
  {
   "cell_type": "code",
   "execution_count": 39,
   "id": "3d8af776",
   "metadata": {},
   "outputs": [
    {
     "name": "stdout",
     "output_type": "stream",
     "text": [
      "Total Calls: 160\n",
      "Abandoned Calls: 52 (32.50%)\n",
      "Average Wait Time (Served Only): 1.69 minutes\n"
     ]
    }
   ],
   "source": [
    "served_count = len(served_waits)\n",
    "total_calls = served_count + abandoned_count\n",
    "\n",
    "abandon_percent = (abandoned_count / total_calls) * 100\n",
    "average_wait_served = np.mean(served_waits) * 60  # in minutes\n",
    "\n",
    "print(f\"Total Calls: {total_calls}\")\n",
    "print(f\"Abandoned Calls: {abandoned_count} ({abandon_percent:.2f}%)\")\n",
    "print(f\"Average Wait Time (Served Only): {average_wait_served:.2f} minutes\")\n"
   ]
  },
  {
   "cell_type": "markdown",
   "id": "b6ed687d",
   "metadata": {},
   "source": [
    "# Task 9. Simulating a Call Center with Agent Breaks"
   ]
  },
  {
   "cell_type": "code",
   "execution_count": 40,
   "id": "217eaefb",
   "metadata": {},
   "outputs": [],
   "source": [
    "import numpy as np\n",
    "\n",
    "np.random.seed(42)  # For reproducibility\n",
    "\n",
    "# Simulation parameters\n",
    "shift_duration = 8  # in hours\n",
    "arrival_rate = 20  # calls per hour\n",
    "service_rate = 5   # calls handled per hour per agent\n",
    "num_agents = 3\n",
    "total_calls = int(arrival_rate * shift_duration)\n",
    "\n",
    "# Generate call arrival times\n",
    "arrival_times = np.cumsum(np.random.exponential(1 / arrival_rate, total_calls))\n",
    "\n",
    "# Filter calls that fall within 8 hours\n",
    "arrival_times = arrival_times[arrival_times <= shift_duration]\n",
    "\n",
    "# Generate random service durations per call\n",
    "service_times = np.random.exponential(1 / service_rate, len(arrival_times))\n"
   ]
  },
  {
   "cell_type": "code",
   "execution_count": 41,
   "id": "ecf654f4",
   "metadata": {},
   "outputs": [],
   "source": [
    "# Agent availability times (3 agents)\n",
    "agent_available_times = [0] * num_agents\n",
    "\n",
    "# Define break: agent 0 on break between 3:00 and 3:15\n",
    "break_start = 3.0\n",
    "break_end = 3.25\n"
   ]
  },
  {
   "cell_type": "code",
   "execution_count": 42,
   "id": "12531fe7",
   "metadata": {},
   "outputs": [],
   "source": [
    "wait_times = []\n",
    "\n",
    "for i in range(len(arrival_times)):\n",
    "    arrival = arrival_times[i]\n",
    "    service = service_times[i]\n",
    "    \n",
    "    # Check if agent 0 is on break\n",
    "    effective_agents = agent_available_times.copy()\n",
    "    \n",
    "    for j in range(num_agents):\n",
    "        if j == 0 and break_start <= arrival <= break_end:\n",
    "            effective_agents[j] = float('inf')  # Not available\n",
    "    \n",
    "    # Find next available agent\n",
    "    next_agent = np.argmin(effective_agents)\n",
    "    available_time = effective_agents[next_agent]\n",
    "    \n",
    "    # Calculate wait time\n",
    "    start_time = max(arrival, available_time)\n",
    "    wait = start_time - arrival\n",
    "    wait_times.append(wait)\n",
    "    \n",
    "    # Update agent's availability\n",
    "    agent_available_times[next_agent] = start_time + service\n"
   ]
  },
  {
   "cell_type": "code",
   "execution_count": 43,
   "id": "27e8976e",
   "metadata": {},
   "outputs": [
    {
     "name": "stdout",
     "output_type": "stream",
     "text": [
      "Average wait time (with 1 agent break): 99.65 minutes\n"
     ]
    }
   ],
   "source": [
    "# Convert wait times to minutes\n",
    "wait_times_minutes = [w * 60 for w in wait_times]\n",
    "average_wait_time = np.mean(wait_times_minutes)\n",
    "\n",
    "print(f\"Average wait time (with 1 agent break): {average_wait_time:.2f} minutes\")\n"
   ]
  },
  {
   "cell_type": "markdown",
   "id": "6b1225d7",
   "metadata": {},
   "source": [
    "# Task 10: Optimize Call Center Costs with Agent Scheduling"
   ]
  },
  {
   "cell_type": "code",
   "execution_count": 44,
   "id": "3965f44a",
   "metadata": {},
   "outputs": [],
   "source": [
    "# Define constants\n",
    "AGENT_HOURLY_WAGE = 20\n",
    "SHIFT_HOURS = 8\n",
    "WAIT_COST_PER_MIN = 0.50\n",
    "CALLS_PER_HOUR = 20\n",
    "TOTAL_CALLS = CALLS_PER_HOUR * SHIFT_HOURS\n"
   ]
  },
  {
   "cell_type": "code",
   "execution_count": 45,
   "id": "d4e65c9d",
   "metadata": {},
   "outputs": [],
   "source": [
    "import numpy as np\n",
    "\n",
    "# Placeholder: Replace these with actual simulation results\n",
    "average_wait_times = {\n",
    "    1: 28.5,  # in minutes\n",
    "    2: 13.2,\n",
    "    3: 5.9,\n",
    "    4: 3.2,\n",
    "    5: 2.1\n",
    "}\n"
   ]
  },
  {
   "cell_type": "code",
   "execution_count": 46,
   "id": "0344519c",
   "metadata": {},
   "outputs": [],
   "source": [
    "total_costs = {}\n",
    "\n",
    "for agents in range(1, 6):\n",
    "    agent_cost = agents * AGENT_HOURLY_WAGE * SHIFT_HOURS\n",
    "    wait_cost = average_wait_times[agents] * TOTAL_CALLS * WAIT_COST_PER_MIN\n",
    "    total_cost = agent_cost + wait_cost\n",
    "    total_costs[agents] = round(total_cost, 2)\n"
   ]
  },
  {
   "cell_type": "code",
   "execution_count": 47,
   "id": "97bc707b",
   "metadata": {},
   "outputs": [
    {
     "name": "stdout",
     "output_type": "stream",
     "text": [
      "Agents | Agent Cost | Wait Cost | Total Cost\n",
      "  1    | $   160     | $ 2280.0   | $  2440.0  \n",
      "  2    | $   320     | $ 1056.0   | $  1376.0  \n",
      "  3    | $   480     | $  472.0   | $  952.0   \n",
      "  4    | $   640     | $  256.0   | $  896.0   \n",
      "  5    | $   800     | $  168.0   | $  968.0   \n"
     ]
    }
   ],
   "source": [
    "print(\"Agents | Agent Cost | Wait Cost | Total Cost\")\n",
    "for agents in range(1, 6):\n",
    "    agent_cost = agents * AGENT_HOURLY_WAGE * SHIFT_HOURS\n",
    "    wait_cost = average_wait_times[agents] * TOTAL_CALLS * WAIT_COST_PER_MIN\n",
    "    total = total_costs[agents]\n",
    "    print(f\"{agents:^6} | ${agent_cost:^10} | ${round(wait_cost,2):^9} | ${total:^10}\")\n"
   ]
  },
  {
   "cell_type": "code",
   "execution_count": 53,
   "id": "51f9ea06",
   "metadata": {},
   "outputs": [
    {
     "name": "stdout",
     "output_type": "stream",
     "text": [
      "Optimal agent count based on cost alone: 4 agents\n"
     ]
    }
   ],
   "source": [
    "min_agents = min(total_costs, key=total_costs.get)\n",
    "print(f\"Optimal agent count based on cost alone: {min_agents} agents\")\n"
   ]
  },
  {
   "cell_type": "markdown",
   "id": "8ea8a26e",
   "metadata": {},
   "source": [
    "# Task 11. Measure Day-to-Day Wait Time Variability"
   ]
  },
  {
   "cell_type": "code",
   "execution_count": 54,
   "id": "42e73a21",
   "metadata": {},
   "outputs": [],
   "source": [
    "import numpy as np\n",
    "\n",
    "# Parameters\n",
    "agents = 3\n",
    "shift_hours = 8\n",
    "arrival_rate = 20  # calls per hour\n",
    "service_rate = 5   # calls per agent per hour\n",
    "days = 30\n",
    "calls_per_day = arrival_rate * shift_hours\n"
   ]
  },
  {
   "cell_type": "code",
   "execution_count": 55,
   "id": "1f1fed6e",
   "metadata": {},
   "outputs": [],
   "source": [
    "import heapq\n",
    "\n",
    "def simulate_day(agents, calls_per_day):\n",
    "    # Simulate arrival times (sorted)\n",
    "    arrival_times = np.cumsum(np.random.exponential(scale=1/arrival_rate, size=calls_per_day))\n",
    "    arrival_times = arrival_times[arrival_times < shift_hours]  # keep calls within shift\n",
    "\n",
    "    # Simulate service times\n",
    "    service_times = np.random.exponential(scale=1/service_rate, size=len(arrival_times))\n",
    "\n",
    "    # Agent availability queue\n",
    "    agent_queue = [0.0] * agents\n",
    "    wait_times = []\n",
    "\n",
    "    for arrival, service in zip(arrival_times, service_times):\n",
    "        next_available = heapq.heappop(agent_queue)\n",
    "        start_time = max(arrival, next_available)\n",
    "        wait_time = start_time - arrival\n",
    "        wait_times.append(wait_time)\n",
    "        heapq.heappush(agent_queue, start_time + service)\n",
    "\n",
    "    return np.mean(wait_times) * 60, np.percentile(wait_times, 95) * 60  # return in minutes\n",
    "\n",
    "# Run simulation for 30 days\n",
    "avg_waits = []\n",
    "pct95_waits = []\n",
    "\n",
    "for _ in range(days):\n",
    "    avg, pct95 = simulate_day(agents, calls_per_day)\n",
    "    avg_waits.append(avg)\n",
    "    pct95_waits.append(pct95)\n"
   ]
  },
  {
   "cell_type": "code",
   "execution_count": 56,
   "id": "5d253178",
   "metadata": {},
   "outputs": [
    {
     "data": {
      "image/png": "[encoded data removed]",
      "text/plain": [
       "<Figure size 1200x500 with 1 Axes>"
      ]
     },
     "metadata": {},
     "output_type": "display_data"
    },
    {
     "data": {
      "image/png": "[encoded data removed]",
      "text/plain": [
       "<Figure size 1200x500 with 1 Axes>"
      ]
     },
     "metadata": {},
     "output_type": "display_data"
    }
   ],
   "source": [
    "import matplotlib.pyplot as plt\n",
    "\n",
    "# Plot Average Wait Times\n",
    "plt.figure(figsize=(12, 5))\n",
    "plt.hist(avg_waits, bins=10, color='skyblue', edgecolor='black')\n",
    "plt.axvline(5, color='red', linestyle='dashed', label='Target = 5 min')\n",
    "plt.title('Histogram of Average Wait Times (30 Days)')\n",
    "plt.xlabel('Average Wait Time (min)')\n",
    "plt.ylabel('Number of Days')\n",
    "plt.legend()\n",
    "plt.grid(True)\n",
    "plt.show()\n",
    "\n",
    "# Plot 95th Percentile Wait Times\n",
    "plt.figure(figsize=(12, 5))\n",
    "plt.hist(pct95_waits, bins=10, color='lightgreen', edgecolor='black')\n",
    "plt.axvline(5, color='red', linestyle='dashed', label='Target = 5 min')\n",
    "plt.title('Histogram of 95th Percentile Wait Times (30 Days)')\n",
    "plt.xlabel('95th Percentile Wait Time (min)')\n",
    "plt.ylabel('Number of Days')\n",
    "plt.legend()\n",
    "plt.grid(True)\n",
    "plt.show()\n"
   ]
  },
  {
   "cell_type": "code",
   "execution_count": null,
   "id": "20ae5f14",
   "metadata": {},
   "outputs": [],
   "source": []
  },
  {
   "cell_type": "code",
   "execution_count": null,
   "id": "979ba649",
   "metadata": {},
   "outputs": [],
   "source": []
  }
 ],
 "metadata": {
  "kernelspec": {
   "display_name": "Python 3 (ipykernel)",
   "language": "python",
   "name": "python3"
  },
  "language_info": {
   "codemirror_mode": {
    "name": "ipython",
    "version": 3
   },
   "file_extension": ".py",
   "mimetype": "text/x-python",
   "name": "python",
   "nbconvert_exporter": "python",
   "pygments_lexer": "ipython3",
   "version": "3.11.5"
  }
 },
 "nbformat": 4,
 "nbformat_minor": 5
}
